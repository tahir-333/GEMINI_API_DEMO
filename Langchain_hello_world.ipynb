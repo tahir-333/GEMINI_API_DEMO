{
  "nbformat": 4,
  "nbformat_minor": 0,
  "metadata": {
    "colab": {
      "provenance": [],
      "authorship_tag": "ABX9TyOvslFM/f4gqK+Sii2slaAC",
      "include_colab_link": true
    },
    "kernelspec": {
      "name": "python3",
      "display_name": "Python 3"
    },
    "language_info": {
      "name": "python"
    }
  },
  "cells": [
    {
      "cell_type": "markdown",
      "metadata": {
        "id": "view-in-github",
        "colab_type": "text"
      },
      "source": [
        "<a href=\"https://colab.research.google.com/github/tahir-333/GEMINI_API_DEMO/blob/main/Langchain_hello_world.ipynb\" target=\"_parent\"><img src=\"https://colab.research.google.com/assets/colab-badge.svg\" alt=\"Open In Colab\"/></a>"
      ]
    },
    {
      "cell_type": "markdown",
      "source": [
        "# **LANG CHAIN HELLO WORLD**\n",
        "\n",
        "* LangChain is an open-source framework that helps developers build applications using large language models (LLMs). LLMs are pre-trained models that can generate responses to user queries.\n",
        "* LangChain reduces the need to write complex code.\n",
        "* LangChain speeds up the development of generative AI applications."
      ],
      "metadata": {
        "id": "Xq5Z8shJv9Cc"
      }
    },
    {
      "cell_type": "markdown",
      "source": [
        "# **! (Exclamation Mark):**\n",
        "This is used in interactive environments like Jupyter Notebooks or Google Colab to run shell commands directly from a cell. It tells the notebook to execute the command that follows in the system shell, rather than as Python code.\n",
        "\n",
        "# **pip install:**\n",
        "This is a command used to install Python packages from the Python Package Index (PyPI). Pip is the package manager for Python, and the install command tells it to download and install the specified packages.\n",
        "\n",
        "# **langchain:**\n",
        "This is the name of the first package being installed. LangChain is an open-source framework that simplifies the development of applications powered by large language models (LLMs). It helps in building chains or pipelines that can integrate LLMs into more complex workflows, such as conversational agents, question-answering systems, or other NLP applications."
      ],
      "metadata": {
        "id": "NvM3SBIzJA_l"
      }
    },
    {
      "cell_type": "code",
      "source": [
        "# Installing the langchain to build the application using LLM.(Large language model like Open AI, Gemini, Deepseek etc.)\n",
        "\n",
        "!pip install langchain"
      ],
      "metadata": {
        "colab": {
          "base_uri": "https://localhost:8080/"
        },
        "id": "nZcT0-d6wPcY",
        "outputId": "493af62d-dbbc-4683-a5d0-247599a52159"
      },
      "execution_count": null,
      "outputs": [
        {
          "output_type": "stream",
          "name": "stdout",
          "text": [
            "Requirement already satisfied: langchain in /usr/local/lib/python3.11/dist-packages (0.3.17)\n",
            "Requirement already satisfied: PyYAML>=5.3 in /usr/local/lib/python3.11/dist-packages (from langchain) (6.0.2)\n",
            "Requirement already satisfied: SQLAlchemy<3,>=1.4 in /usr/local/lib/python3.11/dist-packages (from langchain) (2.0.37)\n",
            "Requirement already satisfied: aiohttp<4.0.0,>=3.8.3 in /usr/local/lib/python3.11/dist-packages (from langchain) (3.11.11)\n",
            "Requirement already satisfied: langchain-core<0.4.0,>=0.3.33 in /usr/local/lib/python3.11/dist-packages (from langchain) (0.3.33)\n",
            "Requirement already satisfied: langchain-text-splitters<0.4.0,>=0.3.3 in /usr/local/lib/python3.11/dist-packages (from langchain) (0.3.5)\n",
            "Requirement already satisfied: langsmith<0.4,>=0.1.17 in /usr/local/lib/python3.11/dist-packages (from langchain) (0.3.4)\n",
            "Requirement already satisfied: numpy<2,>=1.22.4 in /usr/local/lib/python3.11/dist-packages (from langchain) (1.26.4)\n",
            "Requirement already satisfied: pydantic<3.0.0,>=2.7.4 in /usr/local/lib/python3.11/dist-packages (from langchain) (2.10.6)\n",
            "Requirement already satisfied: requests<3,>=2 in /usr/local/lib/python3.11/dist-packages (from langchain) (2.32.3)\n",
            "Requirement already satisfied: tenacity!=8.4.0,<10,>=8.1.0 in /usr/local/lib/python3.11/dist-packages (from langchain) (9.0.0)\n",
            "Requirement already satisfied: aiohappyeyeballs>=2.3.0 in /usr/local/lib/python3.11/dist-packages (from aiohttp<4.0.0,>=3.8.3->langchain) (2.4.4)\n",
            "Requirement already satisfied: aiosignal>=1.1.2 in /usr/local/lib/python3.11/dist-packages (from aiohttp<4.0.0,>=3.8.3->langchain) (1.3.2)\n",
            "Requirement already satisfied: attrs>=17.3.0 in /usr/local/lib/python3.11/dist-packages (from aiohttp<4.0.0,>=3.8.3->langchain) (25.1.0)\n",
            "Requirement already satisfied: frozenlist>=1.1.1 in /usr/local/lib/python3.11/dist-packages (from aiohttp<4.0.0,>=3.8.3->langchain) (1.5.0)\n",
            "Requirement already satisfied: multidict<7.0,>=4.5 in /usr/local/lib/python3.11/dist-packages (from aiohttp<4.0.0,>=3.8.3->langchain) (6.1.0)\n",
            "Requirement already satisfied: propcache>=0.2.0 in /usr/local/lib/python3.11/dist-packages (from aiohttp<4.0.0,>=3.8.3->langchain) (0.2.1)\n",
            "Requirement already satisfied: yarl<2.0,>=1.17.0 in /usr/local/lib/python3.11/dist-packages (from aiohttp<4.0.0,>=3.8.3->langchain) (1.18.3)\n",
            "Requirement already satisfied: jsonpatch<2.0,>=1.33 in /usr/local/lib/python3.11/dist-packages (from langchain-core<0.4.0,>=0.3.33->langchain) (1.33)\n",
            "Requirement already satisfied: packaging<25,>=23.2 in /usr/local/lib/python3.11/dist-packages (from langchain-core<0.4.0,>=0.3.33->langchain) (24.2)\n",
            "Requirement already satisfied: typing-extensions>=4.7 in /usr/local/lib/python3.11/dist-packages (from langchain-core<0.4.0,>=0.3.33->langchain) (4.12.2)\n",
            "Requirement already satisfied: httpx<1,>=0.23.0 in /usr/local/lib/python3.11/dist-packages (from langsmith<0.4,>=0.1.17->langchain) (0.28.1)\n",
            "Requirement already satisfied: orjson<4.0.0,>=3.9.14 in /usr/local/lib/python3.11/dist-packages (from langsmith<0.4,>=0.1.17->langchain) (3.10.15)\n",
            "Requirement already satisfied: requests-toolbelt<2.0.0,>=1.0.0 in /usr/local/lib/python3.11/dist-packages (from langsmith<0.4,>=0.1.17->langchain) (1.0.0)\n",
            "Requirement already satisfied: zstandard<0.24.0,>=0.23.0 in /usr/local/lib/python3.11/dist-packages (from langsmith<0.4,>=0.1.17->langchain) (0.23.0)\n",
            "Requirement already satisfied: annotated-types>=0.6.0 in /usr/local/lib/python3.11/dist-packages (from pydantic<3.0.0,>=2.7.4->langchain) (0.7.0)\n",
            "Requirement already satisfied: pydantic-core==2.27.2 in /usr/local/lib/python3.11/dist-packages (from pydantic<3.0.0,>=2.7.4->langchain) (2.27.2)\n",
            "Requirement already satisfied: charset-normalizer<4,>=2 in /usr/local/lib/python3.11/dist-packages (from requests<3,>=2->langchain) (3.4.1)\n",
            "Requirement already satisfied: idna<4,>=2.5 in /usr/local/lib/python3.11/dist-packages (from requests<3,>=2->langchain) (3.10)\n",
            "Requirement already satisfied: urllib3<3,>=1.21.1 in /usr/local/lib/python3.11/dist-packages (from requests<3,>=2->langchain) (2.3.0)\n",
            "Requirement already satisfied: certifi>=2017.4.17 in /usr/local/lib/python3.11/dist-packages (from requests<3,>=2->langchain) (2025.1.31)\n",
            "Requirement already satisfied: greenlet!=0.4.17 in /usr/local/lib/python3.11/dist-packages (from SQLAlchemy<3,>=1.4->langchain) (3.1.1)\n",
            "Requirement already satisfied: anyio in /usr/local/lib/python3.11/dist-packages (from httpx<1,>=0.23.0->langsmith<0.4,>=0.1.17->langchain) (3.7.1)\n",
            "Requirement already satisfied: httpcore==1.* in /usr/local/lib/python3.11/dist-packages (from httpx<1,>=0.23.0->langsmith<0.4,>=0.1.17->langchain) (1.0.7)\n",
            "Requirement already satisfied: h11<0.15,>=0.13 in /usr/local/lib/python3.11/dist-packages (from httpcore==1.*->httpx<1,>=0.23.0->langsmith<0.4,>=0.1.17->langchain) (0.14.0)\n",
            "Requirement already satisfied: jsonpointer>=1.9 in /usr/local/lib/python3.11/dist-packages (from jsonpatch<2.0,>=1.33->langchain-core<0.4.0,>=0.3.33->langchain) (3.0.0)\n",
            "Requirement already satisfied: sniffio>=1.1 in /usr/local/lib/python3.11/dist-packages (from anyio->httpx<1,>=0.23.0->langsmith<0.4,>=0.1.17->langchain) (1.3.1)\n"
          ]
        }
      ]
    },
    {
      "cell_type": "markdown",
      "source": [
        "# **langchain-google-genai:**\n",
        "This is the second package being installed. It likely provides an integration between LangChain and Google’s Generative AI (GenAI) offerings. Essentially, this package would allow developers to use Google’s generative AI services within the LangChain framework, potentially offering additional functionalities or optimizations for interacting with Google’s AI models."
      ],
      "metadata": {
        "id": "5uyxGDFdQmVx"
      }
    },
    {
      "cell_type": "markdown",
      "source": [
        "# **In Summary**\n",
        "* The entire command installs two Python libraries: langchain (for building LLM-powered applications) and langchain-google-genai (for integrating Google’s generative AI features into LangChain).\n",
        "The exclamation mark indicates that this command is being run in an interactive notebook environment, where shell commands can be executed directly within the code cells.\n",
        "* This command is useful when setting up an environment where you need both the core functionalities of LangChain and additional capabilities provided by the Google GenAI integration."
      ],
      "metadata": {
        "id": "37Dp2xyNQuGY"
      }
    },
    {
      "cell_type": "code",
      "source": [
        "# Installing Google genai SDK for integrating Google's genai features (Gemini) into Langchain\n",
        "\n",
        "!pip install langchain-google-genai"
      ],
      "metadata": {
        "colab": {
          "base_uri": "https://localhost:8080/"
        },
        "id": "pZ83HO8DzDqL",
        "outputId": "7e258ec6-6434-4c3f-850f-604ddec161aa"
      },
      "execution_count": null,
      "outputs": [
        {
          "output_type": "stream",
          "name": "stdout",
          "text": [
            "Requirement already satisfied: langchain-google-genai in /usr/local/lib/python3.11/dist-packages (2.0.9)\n",
            "Requirement already satisfied: filetype<2.0.0,>=1.2.0 in /usr/local/lib/python3.11/dist-packages (from langchain-google-genai) (1.2.0)\n",
            "Requirement already satisfied: google-generativeai<0.9.0,>=0.8.0 in /usr/local/lib/python3.11/dist-packages (from langchain-google-genai) (0.8.4)\n",
            "Requirement already satisfied: langchain-core<0.4.0,>=0.3.27 in /usr/local/lib/python3.11/dist-packages (from langchain-google-genai) (0.3.33)\n",
            "Requirement already satisfied: pydantic<3,>=2 in /usr/local/lib/python3.11/dist-packages (from langchain-google-genai) (2.10.6)\n",
            "Requirement already satisfied: google-ai-generativelanguage==0.6.15 in /usr/local/lib/python3.11/dist-packages (from google-generativeai<0.9.0,>=0.8.0->langchain-google-genai) (0.6.15)\n",
            "Requirement already satisfied: google-api-core in /usr/local/lib/python3.11/dist-packages (from google-generativeai<0.9.0,>=0.8.0->langchain-google-genai) (2.19.2)\n",
            "Requirement already satisfied: google-api-python-client in /usr/local/lib/python3.11/dist-packages (from google-generativeai<0.9.0,>=0.8.0->langchain-google-genai) (2.160.0)\n",
            "Requirement already satisfied: google-auth>=2.15.0 in /usr/local/lib/python3.11/dist-packages (from google-generativeai<0.9.0,>=0.8.0->langchain-google-genai) (2.27.0)\n",
            "Requirement already satisfied: protobuf in /usr/local/lib/python3.11/dist-packages (from google-generativeai<0.9.0,>=0.8.0->langchain-google-genai) (4.25.6)\n",
            "Requirement already satisfied: tqdm in /usr/local/lib/python3.11/dist-packages (from google-generativeai<0.9.0,>=0.8.0->langchain-google-genai) (4.67.1)\n",
            "Requirement already satisfied: typing-extensions in /usr/local/lib/python3.11/dist-packages (from google-generativeai<0.9.0,>=0.8.0->langchain-google-genai) (4.12.2)\n",
            "Requirement already satisfied: proto-plus<2.0.0dev,>=1.22.3 in /usr/local/lib/python3.11/dist-packages (from google-ai-generativelanguage==0.6.15->google-generativeai<0.9.0,>=0.8.0->langchain-google-genai) (1.26.0)\n",
            "Requirement already satisfied: PyYAML>=5.3 in /usr/local/lib/python3.11/dist-packages (from langchain-core<0.4.0,>=0.3.27->langchain-google-genai) (6.0.2)\n",
            "Requirement already satisfied: jsonpatch<2.0,>=1.33 in /usr/local/lib/python3.11/dist-packages (from langchain-core<0.4.0,>=0.3.27->langchain-google-genai) (1.33)\n",
            "Requirement already satisfied: langsmith<0.4,>=0.1.125 in /usr/local/lib/python3.11/dist-packages (from langchain-core<0.4.0,>=0.3.27->langchain-google-genai) (0.3.4)\n",
            "Requirement already satisfied: packaging<25,>=23.2 in /usr/local/lib/python3.11/dist-packages (from langchain-core<0.4.0,>=0.3.27->langchain-google-genai) (24.2)\n",
            "Requirement already satisfied: tenacity!=8.4.0,<10.0.0,>=8.1.0 in /usr/local/lib/python3.11/dist-packages (from langchain-core<0.4.0,>=0.3.27->langchain-google-genai) (9.0.0)\n",
            "Requirement already satisfied: annotated-types>=0.6.0 in /usr/local/lib/python3.11/dist-packages (from pydantic<3,>=2->langchain-google-genai) (0.7.0)\n",
            "Requirement already satisfied: pydantic-core==2.27.2 in /usr/local/lib/python3.11/dist-packages (from pydantic<3,>=2->langchain-google-genai) (2.27.2)\n",
            "Requirement already satisfied: googleapis-common-protos<2.0.dev0,>=1.56.2 in /usr/local/lib/python3.11/dist-packages (from google-api-core->google-generativeai<0.9.0,>=0.8.0->langchain-google-genai) (1.66.0)\n",
            "Requirement already satisfied: requests<3.0.0.dev0,>=2.18.0 in /usr/local/lib/python3.11/dist-packages (from google-api-core->google-generativeai<0.9.0,>=0.8.0->langchain-google-genai) (2.32.3)\n",
            "Requirement already satisfied: cachetools<6.0,>=2.0.0 in /usr/local/lib/python3.11/dist-packages (from google-auth>=2.15.0->google-generativeai<0.9.0,>=0.8.0->langchain-google-genai) (5.5.1)\n",
            "Requirement already satisfied: pyasn1-modules>=0.2.1 in /usr/local/lib/python3.11/dist-packages (from google-auth>=2.15.0->google-generativeai<0.9.0,>=0.8.0->langchain-google-genai) (0.4.1)\n",
            "Requirement already satisfied: rsa<5,>=3.1.4 in /usr/local/lib/python3.11/dist-packages (from google-auth>=2.15.0->google-generativeai<0.9.0,>=0.8.0->langchain-google-genai) (4.9)\n",
            "Requirement already satisfied: jsonpointer>=1.9 in /usr/local/lib/python3.11/dist-packages (from jsonpatch<2.0,>=1.33->langchain-core<0.4.0,>=0.3.27->langchain-google-genai) (3.0.0)\n",
            "Requirement already satisfied: httpx<1,>=0.23.0 in /usr/local/lib/python3.11/dist-packages (from langsmith<0.4,>=0.1.125->langchain-core<0.4.0,>=0.3.27->langchain-google-genai) (0.28.1)\n",
            "Requirement already satisfied: orjson<4.0.0,>=3.9.14 in /usr/local/lib/python3.11/dist-packages (from langsmith<0.4,>=0.1.125->langchain-core<0.4.0,>=0.3.27->langchain-google-genai) (3.10.15)\n",
            "Requirement already satisfied: requests-toolbelt<2.0.0,>=1.0.0 in /usr/local/lib/python3.11/dist-packages (from langsmith<0.4,>=0.1.125->langchain-core<0.4.0,>=0.3.27->langchain-google-genai) (1.0.0)\n",
            "Requirement already satisfied: zstandard<0.24.0,>=0.23.0 in /usr/local/lib/python3.11/dist-packages (from langsmith<0.4,>=0.1.125->langchain-core<0.4.0,>=0.3.27->langchain-google-genai) (0.23.0)\n",
            "Requirement already satisfied: httplib2<1.dev0,>=0.19.0 in /usr/local/lib/python3.11/dist-packages (from google-api-python-client->google-generativeai<0.9.0,>=0.8.0->langchain-google-genai) (0.22.0)\n",
            "Requirement already satisfied: google-auth-httplib2<1.0.0,>=0.2.0 in /usr/local/lib/python3.11/dist-packages (from google-api-python-client->google-generativeai<0.9.0,>=0.8.0->langchain-google-genai) (0.2.0)\n",
            "Requirement already satisfied: uritemplate<5,>=3.0.1 in /usr/local/lib/python3.11/dist-packages (from google-api-python-client->google-generativeai<0.9.0,>=0.8.0->langchain-google-genai) (4.1.1)\n",
            "Requirement already satisfied: grpcio<2.0dev,>=1.33.2 in /usr/local/lib/python3.11/dist-packages (from google-api-core[grpc]!=2.0.*,!=2.1.*,!=2.10.*,!=2.2.*,!=2.3.*,!=2.4.*,!=2.5.*,!=2.6.*,!=2.7.*,!=2.8.*,!=2.9.*,<3.0.0dev,>=1.34.1->google-ai-generativelanguage==0.6.15->google-generativeai<0.9.0,>=0.8.0->langchain-google-genai) (1.70.0)\n",
            "Requirement already satisfied: grpcio-status<2.0.dev0,>=1.33.2 in /usr/local/lib/python3.11/dist-packages (from google-api-core[grpc]!=2.0.*,!=2.1.*,!=2.10.*,!=2.2.*,!=2.3.*,!=2.4.*,!=2.5.*,!=2.6.*,!=2.7.*,!=2.8.*,!=2.9.*,<3.0.0dev,>=1.34.1->google-ai-generativelanguage==0.6.15->google-generativeai<0.9.0,>=0.8.0->langchain-google-genai) (1.62.3)\n",
            "Requirement already satisfied: pyparsing!=3.0.0,!=3.0.1,!=3.0.2,!=3.0.3,<4,>=2.4.2 in /usr/local/lib/python3.11/dist-packages (from httplib2<1.dev0,>=0.19.0->google-api-python-client->google-generativeai<0.9.0,>=0.8.0->langchain-google-genai) (3.2.1)\n",
            "Requirement already satisfied: anyio in /usr/local/lib/python3.11/dist-packages (from httpx<1,>=0.23.0->langsmith<0.4,>=0.1.125->langchain-core<0.4.0,>=0.3.27->langchain-google-genai) (3.7.1)\n",
            "Requirement already satisfied: certifi in /usr/local/lib/python3.11/dist-packages (from httpx<1,>=0.23.0->langsmith<0.4,>=0.1.125->langchain-core<0.4.0,>=0.3.27->langchain-google-genai) (2025.1.31)\n",
            "Requirement already satisfied: httpcore==1.* in /usr/local/lib/python3.11/dist-packages (from httpx<1,>=0.23.0->langsmith<0.4,>=0.1.125->langchain-core<0.4.0,>=0.3.27->langchain-google-genai) (1.0.7)\n",
            "Requirement already satisfied: idna in /usr/local/lib/python3.11/dist-packages (from httpx<1,>=0.23.0->langsmith<0.4,>=0.1.125->langchain-core<0.4.0,>=0.3.27->langchain-google-genai) (3.10)\n",
            "Requirement already satisfied: h11<0.15,>=0.13 in /usr/local/lib/python3.11/dist-packages (from httpcore==1.*->httpx<1,>=0.23.0->langsmith<0.4,>=0.1.125->langchain-core<0.4.0,>=0.3.27->langchain-google-genai) (0.14.0)\n",
            "Requirement already satisfied: pyasn1<0.7.0,>=0.4.6 in /usr/local/lib/python3.11/dist-packages (from pyasn1-modules>=0.2.1->google-auth>=2.15.0->google-generativeai<0.9.0,>=0.8.0->langchain-google-genai) (0.6.1)\n",
            "Requirement already satisfied: charset-normalizer<4,>=2 in /usr/local/lib/python3.11/dist-packages (from requests<3.0.0.dev0,>=2.18.0->google-api-core->google-generativeai<0.9.0,>=0.8.0->langchain-google-genai) (3.4.1)\n",
            "Requirement already satisfied: urllib3<3,>=1.21.1 in /usr/local/lib/python3.11/dist-packages (from requests<3.0.0.dev0,>=2.18.0->google-api-core->google-generativeai<0.9.0,>=0.8.0->langchain-google-genai) (2.3.0)\n",
            "Requirement already satisfied: sniffio>=1.1 in /usr/local/lib/python3.11/dist-packages (from anyio->httpx<1,>=0.23.0->langsmith<0.4,>=0.1.125->langchain-core<0.4.0,>=0.3.27->langchain-google-genai) (1.3.1)\n"
          ]
        }
      ]
    },
    {
      "cell_type": "markdown",
      "source": [
        "# **Importing a Module:**\n",
        "The import statement is used in Python to bring in external modules (or libraries) into your current script or interactive session. This allows you to use the functions, classes, and variables defined in that module.\n",
        "\n",
        "# **langchain_google_genai:**\n",
        "This is the name of the module you are importing. It is part of the package that integrates LangChain (a framework for building language model-powered applications) with Google's generative AI services.\n",
        "\n",
        "# **Aliasing with as genai:**\n",
        "By using the as genai clause, you're giving the imported module a shorthand alias. This means that instead of referring to it by its full name (langchain_google_genai) every time, you can simply use genai in your code. For example, if the module has a function called do_something(), you can call it using genai.do_something() instead of langchain_google_genai.do_something()."
      ],
      "metadata": {
        "id": "zlyCC70FQ8dS"
      }
    },
    {
      "cell_type": "markdown",
      "source": [
        "# **Summary**\n",
        "The code imports the langchain_google_genai module into your current namespace.\n",
        "It assigns the alias genai to the module for convenience.\n",
        "This setup allows you to easily access and utilize the functions and classes provided by langchain_google_genai using the shorter name genai."
      ],
      "metadata": {
        "id": "q0bSGVvPRYRm"
      }
    },
    {
      "cell_type": "code",
      "source": [
        "# Importing the Gemini SDK for integration of Gemini (Google's AI model) with langchain.\n",
        "\n",
        "import langchain_google_genai as genai"
      ],
      "metadata": {
        "id": "rAWmcqo-1HP1"
      },
      "execution_count": null,
      "outputs": []
    },
    {
      "cell_type": "markdown",
      "source": [
        "# **Module Importation:**\n",
        "It imports the ChatGoogleGenerativeAI class from the langchain_google_genai module. This is a common Python practice for accessing specific functionalities within a module without needing to import the entire module namespace.\n",
        "\n",
        "# **Purpose of the Class:**\n",
        "The ChatGoogleGenerativeAI class is designed to provide an interface for interacting with Google’s generative AI chat services within the LangChain ecosystem. LangChain is a framework that helps build applications powered by large language models (LLMs), and this particular class integrates Google’s generative AI capabilities for chat-based interactions.\n",
        "\n",
        "# **Usage:**\n",
        "Once imported, you can create an instance of ChatGoogleGenerativeAI and use its methods to send messages, handle responses, and build chat-based applications. For example, you might initialize it with certain parameters (like API keys, configuration settings, or conversation history) and then call methods to generate responses based on user inputs."
      ],
      "metadata": {
        "id": "HDV2rW5VRhX9"
      }
    },
    {
      "cell_type": "code",
      "source": [
        "# The code imports a specialized class for accessing Google’s generative AI chat services through LangChain.\n",
        "\n",
        "from langchain_google_genai import ChatGoogleGenerativeAI"
      ],
      "metadata": {
        "id": "XaCINOe_4cfk"
      },
      "execution_count": null,
      "outputs": []
    },
    {
      "cell_type": "code",
      "source": [
        "# Code to access secret key of Gemini in Python\n",
        "from google.colab import userdata\n",
        "GEMINI_API_KEY = userdata.get('GEMINI_API_KEY')"
      ],
      "metadata": {
        "id": "8QIEU8sa7FhJ"
      },
      "execution_count": null,
      "outputs": []
    },
    {
      "cell_type": "markdown",
      "source": [
        "# **1. Class Instantiation**\n",
        "\n",
        "\n",
        "###model: ChatGoogleGenerativeAI = ChatGoogleGenerativeAI(...)\n",
        "\n",
        "\n",
        "* ChatGoogleGenerativeAI is a LangChain class for interfacing with Google's Gemini models.\n",
        "\n",
        "* We're creating an instance of this class and assigning it to a variable named model.\n",
        "\n",
        "\n",
        "# **2. Key Parameters**\n",
        "\n",
        "### model = \"gemini-1.5-flash\"\n",
        "Specifies the Gemini model variant to use.\n",
        "\n",
        "\"gemini-1.5-flash\" is a lightweight, fast model optimized for quick responses while maintaining quality.\n",
        "\n",
        "# api_key = GEMINI_API_KEY **bold text**\n",
        "\n",
        "Authentication credential for accessing Google's Gemini API.\n",
        "\n",
        "Best practice: Store this in environment variables/secrets (not hardcoded).\n",
        "\n",
        "\n",
        "# **temperature = 0.1**\n",
        "Controls response randomness:\n",
        "\n",
        "0.0: Deterministic, repetitive outputs\n",
        "\n",
        "1.0: Maximum creativity\n",
        "\n",
        "0.1: Highly focused/conservative responses (good for factual tasks)\n",
        "\n",
        "\n",
        "# **n = 2**\n",
        "Number of alternative responses to generate. With n=2, the model will return 2 distinct outputs for each query."
      ],
      "metadata": {
        "id": "BeO6poNMSWsQ"
      }
    },
    {
      "cell_type": "code",
      "source": [
        "model : ChatGoogleGenerativeAI = ChatGoogleGenerativeAI (\n",
        "    model = \"gemini-1.5-flash\",\n",
        "    api_key = GEMINI_API_KEY,\n",
        "    temperature = 0.1,\n",
        "    n = 2\n",
        ")"
      ],
      "metadata": {
        "id": "rrUV6pJ87Z3A"
      },
      "execution_count": null,
      "outputs": []
    },
    {
      "cell_type": "code",
      "source": [
        "response = model.invoke(\"Tell me the basics of Machine Learning?\")"
      ],
      "metadata": {
        "id": "6PtfuAh-8l5o"
      },
      "execution_count": null,
      "outputs": []
    },
    {
      "cell_type": "code",
      "source": [
        "from IPython.display import Markdown"
      ],
      "metadata": {
        "id": "v2bjcR2e_AUW"
      },
      "execution_count": null,
      "outputs": []
    },
    {
      "cell_type": "code",
      "source": [
        "display(Markdown(response.content))\n",
        "\n"
      ],
      "metadata": {
        "colab": {
          "base_uri": "https://localhost:8080/",
          "height": 773
        },
        "id": "tLsmtCt99gsr",
        "outputId": "fa727385-48b0-4bc5-e7fe-92cb323c521d"
      },
      "execution_count": null,
      "outputs": [
        {
          "output_type": "display_data",
          "data": {
            "text/plain": [
              "<IPython.core.display.Markdown object>"
            ],
            "text/markdown": "Machine learning (ML) is a branch of artificial intelligence (AI) that focuses on enabling computer systems to learn from data without being explicitly programmed.  Instead of relying on hard-coded rules, ML algorithms identify patterns, make predictions, and improve their performance over time based on the data they are exposed to.\n\nHere are the basics:\n\n**1. Core Idea:**  ML algorithms learn from data.  They are fed a dataset, which contains examples of inputs and their corresponding outputs (or labels).  The algorithm then identifies relationships between the inputs and outputs, allowing it to predict the output for new, unseen inputs.\n\n**2. Types of Machine Learning:**\n\n* **Supervised Learning:** The algorithm is trained on a labeled dataset, meaning each data point is tagged with the correct answer.  The goal is to learn a mapping from inputs to outputs.  Examples include:\n    * **Regression:** Predicting a continuous value (e.g., house price prediction).\n    * **Classification:** Predicting a categorical value (e.g., spam detection, image recognition).\n\n* **Unsupervised Learning:** The algorithm is trained on an unlabeled dataset, meaning there are no pre-defined answers. The goal is to discover hidden patterns or structures in the data. Examples include:\n    * **Clustering:** Grouping similar data points together (e.g., customer segmentation).\n    * **Dimensionality Reduction:** Reducing the number of variables while preserving important information (e.g., feature extraction).\n\n* **Reinforcement Learning:** The algorithm learns through trial and error by interacting with an environment. It receives rewards or penalties based on its actions, and learns to maximize its cumulative reward.  Examples include:\n    * **Game playing:** Training an AI to play games like chess or Go.\n    * **Robotics:** Training a robot to navigate a complex environment.\n\n\n**3. Key Components:**\n\n* **Data:** The fuel for ML.  The quality and quantity of data significantly impact the performance of the algorithm.\n* **Algorithm:** The set of rules and calculations used to learn from the data.  Different algorithms are suited for different tasks and data types.\n* **Model:** The output of the learning process.  It represents the learned patterns and relationships in the data and is used to make predictions.\n* **Evaluation:** Assessing the performance of the model using metrics like accuracy, precision, recall, and F1-score.\n\n\n**4. Simple Analogy:**\n\nImagine teaching a child to identify cats.  In supervised learning, you show the child many pictures of cats and label them \"cat.\"  The child learns to identify features that define a cat (fur, whiskers, pointy ears).  In unsupervised learning, you just show the child many pictures of different animals without labels. The child might still group similar animals together based on their visual similarities, even without knowing their names.\n\n\n**5. Applications:**\n\nMachine learning is used in a vast range of applications, including:\n\n* **Image recognition:** Identifying objects, faces, and scenes in images.\n* **Natural language processing:** Understanding and generating human language.\n* **Recommendation systems:** Suggesting products or content to users.\n* **Medical diagnosis:** Assisting doctors in diagnosing diseases.\n* **Fraud detection:** Identifying fraudulent transactions.\n\n\nThis is a simplified overview.  Each aspect of machine learning involves complex mathematical concepts and techniques. However, understanding these basics provides a solid foundation for further exploration."
          },
          "metadata": {}
        }
      ]
    },
    {
      "cell_type": "code",
      "source": [],
      "metadata": {
        "id": "BABg1lgQVga5"
      },
      "execution_count": null,
      "outputs": []
    }
  ]
}